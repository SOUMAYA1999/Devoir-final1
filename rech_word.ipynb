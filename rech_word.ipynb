{
  "nbformat": 4,
  "nbformat_minor": 0,
  "metadata": {
    "colab": {
      "provenance": [],
      "authorship_tag": "ABX9TyOw+6LxC5sVcmYY5DxFVcl3"
    },
    "kernelspec": {
      "name": "python3",
      "display_name": "Python 3"
    },
    "language_info": {
      "name": "python"
    }
  },
  "cells": [
    {
      "cell_type": "code",
      "execution_count": null,
      "metadata": {
        "id": "iH1pJivGC5hP"
      },
      "outputs": [],
      "source": []
    },
    {
      "cell_type": "markdown",
      "source": [
        "**Write a function code to find total count of word in the given string:** *\"Mary had a little lamb Little lamb, little lamb Mary had a little lamb.Its fleece was white as snow And everywhere that Mary went Mary went, Mary went Everywhere that Mary went The lamb was sure to go\"*"
      ],
      "metadata": {
        "id": "qpIMqgPyC77o"
      }
    },
    {
      "cell_type": "code",
      "source": [
        "text1=\"Mary had a little lamb Little lamb, little lamb Mary had a little lamb.Its fleece was white as snow And everywhere that Mary went Mary went, Mary went Everywhere that Mary went The lamb was sure to go\"\n",
        "def count_little(text,mot):\n",
        "    global i\n",
        "    words=[]\n",
        "    words=text.split()\n",
        "    i=0\n",
        "    print(words)\n",
        "    for word in words :\n",
        "       if  word==mot :\n",
        "           i=i+1\n",
        "    print(f\"Total count of word {mot} is :{i}\")\n",
        "count_little(text1,\"Mary\")"
      ],
      "metadata": {
        "colab": {
          "base_uri": "https://localhost:8080/"
        },
        "id": "OJGQi-j1DQnz",
        "outputId": "d2b06672-c141-4a2a-9029-9d74fea3c0e8"
      },
      "execution_count": 1,
      "outputs": [
        {
          "output_type": "stream",
          "name": "stdout",
          "text": [
            "['Mary', 'had', 'a', 'little', 'lamb', 'Little', 'lamb,', 'little', 'lamb', 'Mary', 'had', 'a', 'little', 'lamb.Its', 'fleece', 'was', 'white', 'as', 'snow', 'And', 'everywhere', 'that', 'Mary', 'went', 'Mary', 'went,', 'Mary', 'went', 'Everywhere', 'that', 'Mary', 'went', 'The', 'lamb', 'was', 'sure', 'to', 'go']\n",
            "Total count of word Mary is :6\n"
          ]
        }
      ]
    },
    {
      "cell_type": "markdown",
      "source": [],
      "metadata": {
        "id": "e9OxsfuCDHb5"
      }
    }
  ]
}