{
 "cells": [
  {
   "cell_type": "markdown",
   "id": "117146b4-e0c4-4e7a-9b4a-89a2f5f1d87f",
   "metadata": {},
   "source": [
    "# Data Science Tools and Ecosystem"
   ]
  },
  {
   "cell_type": "markdown",
   "id": "77d4819b-6c8c-4bb9-b90b-2e85b0bec4fb",
   "metadata": {},
   "source": [
    "In this notebook, Data Science Tools and Ecosystem are summarized."
   ]
  },
  {
   "cell_type": "markdown",
   "id": "b0166eee-a3cf-488c-a4f3-5587a692ddac",
   "metadata": {},
   "source": [
    "**Objectif:**\n",
    "- List popular languages for Data Science.\n",
    "- List commonly used libraries used by Data Scientists.\n",
    "- Write code to convert 200 minutes to hours by dividing by 60.\n"
   ]
  },
  {
   "cell_type": "markdown",
   "id": "9a51e47f-d1c6-476b-92e0-3d1cdc7f7417",
   "metadata": {},
   "source": [
    "Some of the popular languages that Data Scientists use are:\n"
   ]
  },
  {
   "cell_type": "markdown",
   "id": "a07cbe70-8170-4ea3-b09b-27f83da06f90",
   "metadata": {},
   "source": [
    "1. Python\n",
    "2. R\n",
    "3. SQL\n",
    "4. Scala"
   ]
  },
  {
   "cell_type": "markdown",
   "id": "f4800a10-bb9c-4e9c-b380-4a4c94ac3f20",
   "metadata": {},
   "source": [
    "Some of the commonly used libraries used by Data Scientists include:\n"
   ]
  },
  {
   "cell_type": "markdown",
   "id": "78d2dd3e-0580-42f1-a8f0-b6d4e2f53b21",
   "metadata": {},
   "source": [
    "1. Pandas\n",
    "2. Matplotlib\n",
    "3. ggplot\n",
    "3. Scikit-learn"
   ]
  },
  {
   "cell_type": "markdown",
   "id": "6a1eb425-a375-4301-92df-67a2b6d79e59",
   "metadata": {},
   "source": [
    "|Data Science Tools |\n",
    "|-------------------|\n",
    "|Jupyter note book  |\n",
    "|RStudio            |\n",
    "|IBM Watson         |\n"
   ]
  },
  {
   "cell_type": "markdown",
   "id": "9f41b318-70f5-4b4c-9e59-42c226d6e642",
   "metadata": {},
   "source": [
    "### Below are a few examples of evaluating arithmetic expressions in Python"
   ]
  },
  {
   "cell_type": "code",
   "execution_count": 18,
   "id": "dd76cf6b-be60-437f-8e82-5073af4871c8",
   "metadata": {},
   "outputs": [
    {
     "data": {
      "text/plain": [
       "17"
      ]
     },
     "execution_count": 18,
     "metadata": {},
     "output_type": "execute_result"
    }
   ],
   "source": [
    "#This a simple arithmetic expression to mutiply then add integers\n",
    "(3*4)+5"
   ]
  },
  {
   "cell_type": "code",
   "execution_count": 24,
   "id": "af46afb5-734f-402f-aafe-37fc9979bf64",
   "metadata": {},
   "outputs": [
    {
     "name": "stdout",
     "output_type": "stream",
     "text": [
      "3.3333333333333335\n"
     ]
    }
   ],
   "source": [
    "#This will convert 200 minutes to hours by diving by 60\n",
    "minutes = 200\n",
    "heures = minutes / 60\n",
    "print(heures)"
   ]
  },
  {
   "cell_type": "markdown",
   "id": "8eeb5e6c-143c-4dd9-a52d-e3d4d27d7ee7",
   "metadata": {},
   "source": [
    "## Author \n",
    "Soumaya EL GHAZI"
   ]
  },
  {
   "cell_type": "code",
   "execution_count": null,
   "id": "d3361bd4-ad69-484a-80cf-e31f3b1abe26",
   "metadata": {},
   "outputs": [],
   "source": []
  }
 ],
 "metadata": {
  "kernelspec": {
   "display_name": "Python 3 (ipykernel)",
   "language": "python",
   "name": "python3"
  },
  "language_info": {
   "codemirror_mode": {
    "name": "ipython",
    "version": 3
   },
   "file_extension": ".py",
   "mimetype": "text/x-python",
   "name": "python",
   "nbconvert_exporter": "python",
   "pygments_lexer": "ipython3",
   "version": "3.12.4"
  }
 },
 "nbformat": 4,
 "nbformat_minor": 5
}
